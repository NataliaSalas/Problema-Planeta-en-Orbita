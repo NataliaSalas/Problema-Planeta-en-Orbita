{
  "nbformat": 4,
  "nbformat_minor": 0,
  "metadata": {
    "colab": {
      "provenance": []
    },
    "kernelspec": {
      "name": "python3",
      "display_name": "Python 3"
    },
    "language_info": {
      "name": "python"
    }
  },
  "cells": [
    {
      "cell_type": "code",
      "execution_count": 136,
      "metadata": {
        "id": "WBkLdXI7o7jt"
      },
      "outputs": [],
      "source": [
        "import pandas as pd\n",
        "import numpy as np\n",
        "import matplotlib.pyplot as plt"
      ]
    },
    {
      "cell_type": "markdown",
      "source": [
        "#**Introducción**\n",
        "Python es un lenguaje de programación interpretado, pero es lento a comparación del lenguaje de programación C que es compilado. Para resolver este problema se puede traducir el código Python a C y compilándolo con Cython y así obtener de esta forma considerables mejoras del rendimiento. En problema se explicará cómo se puede incrementar el rendimiento de Python con Cython.  "
      ],
      "metadata": {
        "id": "ccRvN5TiHQxv"
      }
    },
    {
      "cell_type": "markdown",
      "source": [
        "#**Desarrollo**\n",
        "Para comprobar cuánto puede mejorar el rendimiento del código Python al utilizar Cython, se utilizó el problema Planeta en Orbita, los valores de la masa y velocidad del planeta Tierra fueron extraídos de Wikipedia. \n",
        "\n",
        "En primera instancia se realizó una batería de experimentos, para controlar el ruido gaussiano, se realizó 20 veces el experimento, para esto se realizó diferentes cargas de experimentos. Para saber cuánto puede aumentar el rendimiento de Python cuando se utiliza Cython solamente se tiene que comparar el tiempo que tarda en ejecutarse en ambos lenguajes de programación\n",
        "- *Carga 1:* Nsteps = 2000000 \n",
        "- *Carga 2:* Nsteps = 4000000 \n",
        "- *Carga 3:* Nsteps = 6000000 "
      ],
      "metadata": {
        "id": "8U_K8u-HNw_9"
      }
    },
    {
      "cell_type": "code",
      "source": [
        "data1 = pd.read_csv(\"/content/planeta.csv\")\n",
        "data2 = pd.read_csv(\"/content/planeta2.csv\")\n",
        "data3 = pd.read_csv(\"/content/planeta3.csv\")"
      ],
      "metadata": {
        "id": "GUvGVfMqpA_R"
      },
      "execution_count": 98,
      "outputs": []
    },
    {
      "cell_type": "markdown",
      "source": [
        "- Promedio del tiempo de ejecución de cada carga en python"
      ],
      "metadata": {
        "id": "AR5JUD_5uthJ"
      }
    },
    {
      "cell_type": "code",
      "source": [
        "mean_py1 = data1['py'].mean()\n",
        "mean_py1"
      ],
      "metadata": {
        "colab": {
          "base_uri": "https://localhost:8080/"
        },
        "id": "0GDOJtM2tuAr",
        "outputId": "0c3a1fa6-9f58-43eb-dc53-19e1cf592e52"
      },
      "execution_count": 99,
      "outputs": [
        {
          "output_type": "execute_result",
          "data": {
            "text/plain": [
              "1.85779"
            ]
          },
          "metadata": {},
          "execution_count": 99
        }
      ]
    },
    {
      "cell_type": "code",
      "source": [
        "mean_py2 = data2['py'].mean()\n",
        "mean_py2"
      ],
      "metadata": {
        "colab": {
          "base_uri": "https://localhost:8080/"
        },
        "outputId": "21723620-cc53-44b3-8354-d54f9b15d622",
        "id": "H__fITxqC5u5"
      },
      "execution_count": 100,
      "outputs": [
        {
          "output_type": "execute_result",
          "data": {
            "text/plain": [
              "3.5489850000000005"
            ]
          },
          "metadata": {},
          "execution_count": 100
        }
      ]
    },
    {
      "cell_type": "code",
      "source": [
        "mean_py3 = data3['py'].mean()\n",
        "mean_py3"
      ],
      "metadata": {
        "colab": {
          "base_uri": "https://localhost:8080/"
        },
        "outputId": "7689bf36-305e-4a7f-f2f8-b33eb248daea",
        "id": "TZOFds16C59R"
      },
      "execution_count": 102,
      "outputs": [
        {
          "output_type": "execute_result",
          "data": {
            "text/plain": [
              "5.8065705"
            ]
          },
          "metadata": {},
          "execution_count": 102
        }
      ]
    },
    {
      "cell_type": "markdown",
      "source": [
        "- Promedio del tiempo de ejecución de cada carga en cython"
      ],
      "metadata": {
        "id": "18qEFygou24e"
      }
    },
    {
      "cell_type": "code",
      "source": [
        "mean_cy1 = data1['cy'].mean()\n",
        "mean_cy1"
      ],
      "metadata": {
        "colab": {
          "base_uri": "https://localhost:8080/"
        },
        "id": "u7h1cexdt5oq",
        "outputId": "11cb2de5-9ea7-4d52-d7b3-5e73329dea62"
      },
      "execution_count": 103,
      "outputs": [
        {
          "output_type": "execute_result",
          "data": {
            "text/plain": [
              "0.09467850000000001"
            ]
          },
          "metadata": {},
          "execution_count": 103
        }
      ]
    },
    {
      "cell_type": "code",
      "source": [
        "mean_cy2 = data2['cy'].mean()\n",
        "mean_cy2"
      ],
      "metadata": {
        "colab": {
          "base_uri": "https://localhost:8080/"
        },
        "outputId": "97df48c6-6a1a-42cf-d174-ece6d85cecf3",
        "id": "cqTf3J9QDPjx"
      },
      "execution_count": 104,
      "outputs": [
        {
          "output_type": "execute_result",
          "data": {
            "text/plain": [
              "0.1893265"
            ]
          },
          "metadata": {},
          "execution_count": 104
        }
      ]
    },
    {
      "cell_type": "code",
      "source": [
        "mean_cy3 = data3['cy'].mean()\n",
        "mean_cy3"
      ],
      "metadata": {
        "colab": {
          "base_uri": "https://localhost:8080/"
        },
        "outputId": "5b4f33fc-2aad-4a65-a2b6-87f5130de189",
        "id": "irzkD7T5DPwR"
      },
      "execution_count": 105,
      "outputs": [
        {
          "output_type": "execute_result",
          "data": {
            "text/plain": [
              "0.2845825"
            ]
          },
          "metadata": {},
          "execution_count": 105
        }
      ]
    },
    {
      "cell_type": "markdown",
      "source": [
        "- Se compararon los diferentes cargas en función del tiempo de ejecución a través de un gráfico de barras "
      ],
      "metadata": {
        "id": "74wXvq5xx0yT"
      }
    },
    {
      "cell_type": "code",
      "source": [
        "x_axis = np.arange(len([mean_py1,mean_py2,mean_py3]))\n",
        "plt.bar(x_axis + 0.2,[mean_py1,mean_py2,mean_py3], 0.4, label = 'Python', alpha=0.8)\n",
        "plt.bar(x_axis - 0.2,[mean_cy1,mean_cy2,mean_cy3], 0.4, label = 'Cython', alpha=0.8)\n",
        "plt.xticks(x_axis,['2000000','4000000','6000000'])\n",
        "plt.xlabel('Nsteps')\n",
        "plt.ylabel('Mean Time (s)')\n",
        "plt.title('Número de pasos Vs Tiempo')\n",
        "plt.legend()\n",
        "def addlabels(x, y, val):\n",
        "    for i in range(len(x)):\n",
        "        plt.text(i + val , y[i] + 0.05, round(y[i],2), ha = 'center')\n",
        "\n",
        "addlabels(['2000000','4000000','6000000'], [mean_py1,mean_py2,mean_py3], + 0.2)\n",
        "addlabels(['2000000','4000000','6000000'], [mean_cy1,mean_cy2,mean_cy3], - 0.2)\n",
        "plt.show()"
      ],
      "metadata": {
        "colab": {
          "base_uri": "https://localhost:8080/",
          "height": 295
        },
        "id": "SnMrwjp2EAr0",
        "outputId": "6c2208eb-2afe-4ecb-a0fa-9a40fb84e8e7"
      },
      "execution_count": 138,
      "outputs": [
        {
          "output_type": "display_data",
          "data": {
            "text/plain": [
              "<Figure size 432x288 with 1 Axes>"
            ],
            "image/png": "[encoded data removed]"
          },
          "metadata": {
            "needs_background": "light"
          }
        }
      ]
    },
    {
      "cell_type": "markdown",
      "source": [
        "- Se compararon los diferentes cargas en función del tiempo de ejecución a través de un gráfico, para asi evidenciar el rendimiento que ofrece Cython "
      ],
      "metadata": {
        "id": "Di8joNETSVcN"
      }
    },
    {
      "cell_type": "code",
      "source": [
        "plt.plot([2,4,6],[mean_py1,mean_py2,mean_py3], label = 'Python', alpha=0.8)\n",
        "plt.scatter([2,4,6],[mean_py1,mean_py2,mean_py3])\n",
        "\n",
        "plt.plot([2,4,6],[mean_cy1,mean_cy2,mean_cy3],label = 'Cython', alpha=0.8)\n",
        "plt.scatter([2,4,6],[mean_cy1,mean_cy2,mean_cy3])\n",
        "plt.xlabel('Nsteps (M)')\n",
        "plt.ylabel('Mean Time (s)')\n",
        "plt.title('Número de pasos Vs Tiempo')\n",
        "plt.legend()\n",
        "plt.show()"
      ],
      "metadata": {
        "colab": {
          "base_uri": "https://localhost:8080/",
          "height": 295
        },
        "id": "j0UNnRI8J8Ug",
        "outputId": "f6ad0e71-d1a4-453c-b3d6-3d8041b1faa0"
      },
      "execution_count": 141,
      "outputs": [
        {
          "output_type": "display_data",
          "data": {
            "text/plain": [
              "<Figure size 432x288 with 1 Axes>"
            ],
            "image/png": "[encoded data removed]"
          },
          "metadata": {
            "needs_background": "light"
          }
        }
      ]
    },
    {
      "cell_type": "markdown",
      "source": [
        "#**Conclusiones**\n",
        "- Se evidencia en las graficas que Cython es mucho más rapido que Python, Cython ofrece poder aumentar el rendimiento de Python considerablemente.\n",
        "- Una de las ventajas de Cython es que al mezclar el lenguaje de programación C con Python, es que el codigo se puede ejecutar casi a la velocidad de C con ajustar varias funciones como las declaracionesde, que pueden ser de tres formas: *def, cpdef y cdef*\n",
        "- Al poder utilizar librerias del lenguaje de C en Cython, se puede llegar a paralelizar procesos y asi aumentar el rendimiento, todo esto se podria con la ayuda de OpenMP.\n",
        "- Cython facilita funcionalidades del lenguaje C, que poseen menos sobrecarga que las funcionalidades de Python una vez que se las llama y, por consiguiente, se ejecutan más rapido.\n"
      ],
      "metadata": {
        "id": "s_vfE14cSnmN"
      }
    }
  ]
}